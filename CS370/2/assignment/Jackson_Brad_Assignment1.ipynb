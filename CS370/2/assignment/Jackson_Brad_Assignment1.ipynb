{
 "cells": [
  {
   "cell_type": "code",
   "execution_count": 1,
   "metadata": {},
   "outputs": [
    {
     "name": "stdout",
     "output_type": "stream",
     "text": [
      "Error processing line 1 of /Users/bradmin/apps/school/.conda/lib/python3.10/site-packages/distutils-precedence.pth:\n",
      "\n",
      "  Traceback (most recent call last):\n",
      "    File \"/Users/bradmin/apps/school/.conda/lib/python3.10/site.py\", line 186, in addpackage\n",
      "      exec(line)\n",
      "    File \"<string>\", line 1, in <module>\n",
      "  ModuleNotFoundError: No module named '_distutils_hack'\n",
      "\n",
      "Remainder of file ignored\n",
      "\u001b[31mERROR: Could not find a version that satisfies the requirement tensorflow==2.1.0 (from versions: 2.13.0rc0, 2.13.0rc1, 2.13.0rc2, 2.13.0)\u001b[0m\u001b[31m\n",
      "\u001b[0m\u001b[31mERROR: No matching distribution found for tensorflow==2.1.0\u001b[0m\u001b[31m\n",
      "\u001b[0mError processing line 1 of /Users/bradmin/apps/school/.conda/lib/python3.10/site-packages/distutils-precedence.pth:\n",
      "\n",
      "  Traceback (most recent call last):\n",
      "    File \"/Users/bradmin/apps/school/.conda/lib/python3.10/site.py\", line 186, in addpackage\n",
      "      exec(line)\n",
      "    File \"<string>\", line 1, in <module>\n",
      "  ModuleNotFoundError: No module named '_distutils_hack'\n",
      "\n",
      "Remainder of file ignored\n",
      "Requirement already satisfied: numpy in /Users/bradmin/apps/school/.conda/lib/python3.10/site-packages (1.25.1)\n",
      "\u001b[33mWARNING: Error parsing requirements for google-pasta: [Errno 2] No such file or directory: '/Users/bradmin/apps/school/.conda/lib/python3.10/site-packages/google_pasta-0.2.0.dist-info/METADATA'\u001b[0m\u001b[33m\n",
      "\u001b[0mError processing line 1 of /Users/bradmin/apps/school/.conda/lib/python3.10/site-packages/distutils-precedence.pth:\n",
      "\n",
      "  Traceback (most recent call last):\n",
      "    File \"/Users/bradmin/apps/school/.conda/lib/python3.10/site.py\", line 186, in addpackage\n",
      "      exec(line)\n",
      "    File \"<string>\", line 1, in <module>\n",
      "  ModuleNotFoundError: No module named '_distutils_hack'\n",
      "\n",
      "Remainder of file ignored\n",
      "Requirement already satisfied: keras==2.3.1 in /Users/bradmin/apps/school/.conda/lib/python3.10/site-packages (2.3.1)\n",
      "Requirement already satisfied: numpy>=1.9.1 in /Users/bradmin/apps/school/.conda/lib/python3.10/site-packages (from keras==2.3.1) (1.25.1)\n",
      "Requirement already satisfied: scipy>=0.14 in /Users/bradmin/apps/school/.conda/lib/python3.10/site-packages (from keras==2.3.1) (1.11.1)\n",
      "Requirement already satisfied: six>=1.9.0 in /Users/bradmin/apps/school/.conda/lib/python3.10/site-packages (from keras==2.3.1) (1.16.0)\n",
      "Requirement already satisfied: pyyaml in /Users/bradmin/apps/school/.conda/lib/python3.10/site-packages (from keras==2.3.1) (6.0)\n",
      "Requirement already satisfied: h5py in /Users/bradmin/apps/school/.conda/lib/python3.10/site-packages (from keras==2.3.1) (3.9.0)\n",
      "Requirement already satisfied: keras-applications>=1.0.6 in /Users/bradmin/apps/school/.conda/lib/python3.10/site-packages (from keras==2.3.1) (1.0.8)\n",
      "Requirement already satisfied: keras-preprocessing>=1.0.5 in /Users/bradmin/apps/school/.conda/lib/python3.10/site-packages (from keras==2.3.1) (1.1.2)\n",
      "\u001b[33mWARNING: Error parsing requirements for google-pasta: [Errno 2] No such file or directory: '/Users/bradmin/apps/school/.conda/lib/python3.10/site-packages/google_pasta-0.2.0.dist-info/METADATA'\u001b[0m\u001b[33m\n",
      "\u001b[0m"
     ]
    }
   ],
   "source": [
    "!pip install tensorflow==2.1.0\n",
    "!pip install numpy\n",
    "!pip install keras==2.3.1"
   ]
  },
  {
   "cell_type": "code",
   "execution_count": null,
   "metadata": {},
   "outputs": [],
   "source": [
    "from __future__ import print_function\n",
    "import numpy as np\n",
    "from keras.datasets import mnist\n",
    "from keras.models import Sequential\n",
    "from keras.layers.core import Dense, Activation\n",
    "from keras.optimizers import SGD\n",
    "from keras.utils import np_utils"
   ]
  },
  {
   "cell_type": "code",
   "execution_count": null,
   "metadata": {},
   "outputs": [],
   "source": [
    "np.random.seed(1671)\n",
    "NB_EPOCH = 20\n",
    "BATCH_SIZE = 128\n",
    "VERBOSE = 1\n",
    "NB_CLASSES = 10\n",
    "OPTIMIZER = SGD()\n",
    "N_HIDDEN = 128\n",
    "VALIDATION_SPLIT=0.2\n",
    "RESHAPED = 784"
   ]
  },
  {
   "cell_type": "code",
   "execution_count": null,
   "metadata": {},
   "outputs": [],
   "source": [
    "(X_train, y_train), (X_test, y_test) = mnist.load_data()\n",
    "X_train = X_train.reshape(60000,RESHAPED)\n",
    "X_test = X_test.reshape(10000,RESHAPED)\n",
    "X_train = X_train.astype(\"float32\")\n",
    "X_test = X_test.astype(\"float32\")\n",
    "\n",
    "# normalize\n",
    "X_train /= 255\n",
    "X_test /= 255\n",
    "print(X_train.shape[0], \"Train Samples\")\n",
    "print(X_test.shape[0], \"Test Samples\")\n",
    "\n",
    "# convert class vectors to binary class matrices\n",
    "Y_train = np_utils.to_categorical(y_train, NB_CLASSES)\n",
    "Y_test = np_utils.to_categorical(y_test, NB_CLASSES)"
   ]
  },
  {
   "cell_type": "code",
   "execution_count": null,
   "metadata": {},
   "outputs": [],
   "source": [
    "model = Sequential()\n",
    "model.add(Dense(N_HIDDEN, input_shape=(RESHAPED,)))\n",
    "model.add(Activation(\"relu\"))\n",
    "model.add(Dense(N_HIDDEN))\n",
    "model.add(Activation(\"relu\"))\n",
    "model.add(Dense(NB_CLASSES))\n",
    "model.add(Activation(\"softmax\"))\n",
    "model.summary()\n",
    "model.compile(\n",
    "    loss=\"categorical_crossentropy\", optimizer=OPTIMIZER, metrics=[\"accuracy\"]\n",
    ")\n",
    "history = model.fit(\n",
    "    X_train,\n",
    "    Y_train,\n",
    "    batch_size=BATCH_SIZE,\n",
    "    epochs=NB_EPOCH,\n",
    "    verbose=VERBOSE,\n",
    "    validation_split=VALIDATION_SPLIT,\n",
    ")\n",
    "score = model.evaluate(X_test, Y_test, verbose=VERBOSE)\n",
    "print(f\"Test score: {score[0]}\")\n",
    "print(f\"Test accuracy: {score[1]}\")"
   ]
  }
 ],
 "metadata": {
  "kernelspec": {
   "display_name": "Python 3",
   "language": "python",
   "name": "python3"
  },
  "language_info": {
   "codemirror_mode": {
    "name": "ipython",
    "version": 3
   },
   "file_extension": ".py",
   "mimetype": "text/x-python",
   "name": "python",
   "nbconvert_exporter": "python",
   "pygments_lexer": "ipython3",
   "version": "3.10.12"
  },
  "orig_nbformat": 4
 },
 "nbformat": 4,
 "nbformat_minor": 2
}
